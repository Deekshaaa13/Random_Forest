{
 "cells": [
  {
   "cell_type": "markdown",
   "metadata": {},
   "source": [
    "# Importing Libraries"
   ]
  },
  {
   "cell_type": "code",
   "execution_count": 26,
   "metadata": {},
   "outputs": [],
   "source": [
    "import numpy as np\n",
    "import pandas as pd\n",
    "from sklearn import tree\n",
    "import seaborn as sns\n",
    "import matplotlib.pyplot as plt\n",
    "%matplotlib inline\n",
    "from sklearn.ensemble import RandomForestClassifier\n",
    "from sklearn.metrics import accuracy_score,confusion_matrix\n",
    "from sklearn.model_selection import train_test_split,GridSearchCV"
   ]
  },
  {
   "cell_type": "markdown",
   "metadata": {},
   "source": [
    "# Importing the Dataset"
   ]
  },
  {
   "cell_type": "code",
   "execution_count": 3,
   "metadata": {},
   "outputs": [
    {
     "data": {
      "text/html": [
       "<div>\n",
       "<style scoped>\n",
       "    .dataframe tbody tr th:only-of-type {\n",
       "        vertical-align: middle;\n",
       "    }\n",
       "\n",
       "    .dataframe tbody tr th {\n",
       "        vertical-align: top;\n",
       "    }\n",
       "\n",
       "    .dataframe thead th {\n",
       "        text-align: right;\n",
       "    }\n",
       "</style>\n",
       "<table border=\"1\" class=\"dataframe\">\n",
       "  <thead>\n",
       "    <tr style=\"text-align: right;\">\n",
       "      <th></th>\n",
       "      <th>Undergrad</th>\n",
       "      <th>Marital.Status</th>\n",
       "      <th>Taxable.Income</th>\n",
       "      <th>City.Population</th>\n",
       "      <th>Work.Experience</th>\n",
       "      <th>Urban</th>\n",
       "    </tr>\n",
       "  </thead>\n",
       "  <tbody>\n",
       "    <tr>\n",
       "      <th>0</th>\n",
       "      <td>NO</td>\n",
       "      <td>Single</td>\n",
       "      <td>68833</td>\n",
       "      <td>50047</td>\n",
       "      <td>10</td>\n",
       "      <td>YES</td>\n",
       "    </tr>\n",
       "    <tr>\n",
       "      <th>1</th>\n",
       "      <td>YES</td>\n",
       "      <td>Divorced</td>\n",
       "      <td>33700</td>\n",
       "      <td>134075</td>\n",
       "      <td>18</td>\n",
       "      <td>YES</td>\n",
       "    </tr>\n",
       "    <tr>\n",
       "      <th>2</th>\n",
       "      <td>NO</td>\n",
       "      <td>Married</td>\n",
       "      <td>36925</td>\n",
       "      <td>160205</td>\n",
       "      <td>30</td>\n",
       "      <td>YES</td>\n",
       "    </tr>\n",
       "    <tr>\n",
       "      <th>3</th>\n",
       "      <td>YES</td>\n",
       "      <td>Single</td>\n",
       "      <td>50190</td>\n",
       "      <td>193264</td>\n",
       "      <td>15</td>\n",
       "      <td>YES</td>\n",
       "    </tr>\n",
       "    <tr>\n",
       "      <th>4</th>\n",
       "      <td>NO</td>\n",
       "      <td>Married</td>\n",
       "      <td>81002</td>\n",
       "      <td>27533</td>\n",
       "      <td>28</td>\n",
       "      <td>NO</td>\n",
       "    </tr>\n",
       "  </tbody>\n",
       "</table>\n",
       "</div>"
      ],
      "text/plain": [
       "  Undergrad Marital.Status  Taxable.Income  City.Population  Work.Experience  \\\n",
       "0        NO         Single           68833            50047               10   \n",
       "1       YES       Divorced           33700           134075               18   \n",
       "2        NO        Married           36925           160205               30   \n",
       "3       YES         Single           50190           193264               15   \n",
       "4        NO        Married           81002            27533               28   \n",
       "\n",
       "  Urban  \n",
       "0   YES  \n",
       "1   YES  \n",
       "2   YES  \n",
       "3   YES  \n",
       "4    NO  "
      ]
     },
     "execution_count": 3,
     "metadata": {},
     "output_type": "execute_result"
    }
   ],
   "source": [
    "df=pd.read_csv('Fraud_check.csv')\n",
    "df.head() #retrieving the first 5 records."
   ]
  },
  {
   "cell_type": "markdown",
   "metadata": {},
   "source": [
    "# EDA/ Feature Engineering steps:"
   ]
  },
  {
   "cell_type": "code",
   "execution_count": 4,
   "metadata": {},
   "outputs": [
    {
     "data": {
      "text/plain": [
       "(600, 6)"
      ]
     },
     "execution_count": 4,
     "metadata": {},
     "output_type": "execute_result"
    }
   ],
   "source": [
    "df.shape #Checking the shape of the data"
   ]
  },
  {
   "cell_type": "code",
   "execution_count": 5,
   "metadata": {},
   "outputs": [
    {
     "data": {
      "text/plain": [
       "Undergrad          False\n",
       "Marital.Status     False\n",
       "Taxable.Income     False\n",
       "City.Population    False\n",
       "Work.Experience    False\n",
       "Urban              False\n",
       "dtype: bool"
      ]
     },
     "execution_count": 5,
     "metadata": {},
     "output_type": "execute_result"
    }
   ],
   "source": [
    "df.isnull().any() #checking for any missing values in the data"
   ]
  },
  {
   "cell_type": "code",
   "execution_count": 6,
   "metadata": {},
   "outputs": [
    {
     "name": "stdout",
     "output_type": "stream",
     "text": [
      "['Taxable.Income', 'City.Population', 'Work.Experience']\n",
      "['Undergrad', 'Marital.Status', 'Urban']\n"
     ]
    }
   ],
   "source": [
    "df_num=[]\n",
    "df_cat=[]\n",
    "for i in df.columns:\n",
    "    if(df[i].dtype=='int64'):\n",
    "        df_num.append(i)\n",
    "    else:\n",
    "        df_cat.append(i)\n",
    "print(df_num)\n",
    "print(df_cat)"
   ]
  },
  {
   "cell_type": "markdown",
   "metadata": {},
   "source": [
    "### In the above block of code I am seaparating the categorical features and numerical features using for loop"
   ]
  },
  {
   "cell_type": "code",
   "execution_count": 7,
   "metadata": {},
   "outputs": [
    {
     "name": "stdout",
     "output_type": "stream",
     "text": [
      "Unique label in Undergrad is: ['NO' 'YES']\n",
      "Unique label in Marital.Status is: ['Single' 'Divorced' 'Married']\n",
      "Unique label in Urban is: ['YES' 'NO']\n"
     ]
    }
   ],
   "source": [
    "for i in df_cat:\n",
    "    print('Unique label in {} is: {}'.format(i,df[i].unique())) #obtaining the unique labels in the categorical feature."
   ]
  },
  {
   "cell_type": "markdown",
   "metadata": {},
   "source": [
    "### unique() function gives the unique labels in the categorical feature."
   ]
  },
  {
   "cell_type": "code",
   "execution_count": 8,
   "metadata": {},
   "outputs": [],
   "source": [
    "df['Undergrad']=np.where(df['Undergrad']=='Yes',1,0) #Converting the categorical feature values into 1's and 0's using the \n",
    "#np.where function.\n",
    "df['Urban']=np.where(df['Urban']=='Yes',1,0)"
   ]
  },
  {
   "cell_type": "markdown",
   "metadata": {},
   "source": [
    "### using np.where converting all the labels with yes as 1 in the categorical feature Undergrad and Urban to 1 and rest to 0."
   ]
  },
  {
   "cell_type": "code",
   "execution_count": 9,
   "metadata": {},
   "outputs": [
    {
     "data": {
      "text/html": [
       "<div>\n",
       "<style scoped>\n",
       "    .dataframe tbody tr th:only-of-type {\n",
       "        vertical-align: middle;\n",
       "    }\n",
       "\n",
       "    .dataframe tbody tr th {\n",
       "        vertical-align: top;\n",
       "    }\n",
       "\n",
       "    .dataframe thead th {\n",
       "        text-align: right;\n",
       "    }\n",
       "</style>\n",
       "<table border=\"1\" class=\"dataframe\">\n",
       "  <thead>\n",
       "    <tr style=\"text-align: right;\">\n",
       "      <th></th>\n",
       "      <th>Undergrad</th>\n",
       "      <th>Marital.Status</th>\n",
       "      <th>Taxable.Income</th>\n",
       "      <th>City.Population</th>\n",
       "      <th>Work.Experience</th>\n",
       "      <th>Urban</th>\n",
       "    </tr>\n",
       "  </thead>\n",
       "  <tbody>\n",
       "    <tr>\n",
       "      <th>0</th>\n",
       "      <td>0</td>\n",
       "      <td>Single</td>\n",
       "      <td>68833</td>\n",
       "      <td>50047</td>\n",
       "      <td>10</td>\n",
       "      <td>0</td>\n",
       "    </tr>\n",
       "    <tr>\n",
       "      <th>1</th>\n",
       "      <td>0</td>\n",
       "      <td>Divorced</td>\n",
       "      <td>33700</td>\n",
       "      <td>134075</td>\n",
       "      <td>18</td>\n",
       "      <td>0</td>\n",
       "    </tr>\n",
       "    <tr>\n",
       "      <th>2</th>\n",
       "      <td>0</td>\n",
       "      <td>Married</td>\n",
       "      <td>36925</td>\n",
       "      <td>160205</td>\n",
       "      <td>30</td>\n",
       "      <td>0</td>\n",
       "    </tr>\n",
       "    <tr>\n",
       "      <th>3</th>\n",
       "      <td>0</td>\n",
       "      <td>Single</td>\n",
       "      <td>50190</td>\n",
       "      <td>193264</td>\n",
       "      <td>15</td>\n",
       "      <td>0</td>\n",
       "    </tr>\n",
       "    <tr>\n",
       "      <th>4</th>\n",
       "      <td>0</td>\n",
       "      <td>Married</td>\n",
       "      <td>81002</td>\n",
       "      <td>27533</td>\n",
       "      <td>28</td>\n",
       "      <td>0</td>\n",
       "    </tr>\n",
       "  </tbody>\n",
       "</table>\n",
       "</div>"
      ],
      "text/plain": [
       "   Undergrad Marital.Status  Taxable.Income  City.Population  Work.Experience  \\\n",
       "0          0         Single           68833            50047               10   \n",
       "1          0       Divorced           33700           134075               18   \n",
       "2          0        Married           36925           160205               30   \n",
       "3          0         Single           50190           193264               15   \n",
       "4          0        Married           81002            27533               28   \n",
       "\n",
       "   Urban  \n",
       "0      0  \n",
       "1      0  \n",
       "2      0  \n",
       "3      0  \n",
       "4      0  "
      ]
     },
     "execution_count": 9,
     "metadata": {},
     "output_type": "execute_result"
    }
   ],
   "source": [
    "df.head()"
   ]
  },
  {
   "cell_type": "markdown",
   "metadata": {},
   "source": [
    "## One hot encoding"
   ]
  },
  {
   "cell_type": "code",
   "execution_count": 10,
   "metadata": {},
   "outputs": [
    {
     "data": {
      "text/html": [
       "<div>\n",
       "<style scoped>\n",
       "    .dataframe tbody tr th:only-of-type {\n",
       "        vertical-align: middle;\n",
       "    }\n",
       "\n",
       "    .dataframe tbody tr th {\n",
       "        vertical-align: top;\n",
       "    }\n",
       "\n",
       "    .dataframe thead th {\n",
       "        text-align: right;\n",
       "    }\n",
       "</style>\n",
       "<table border=\"1\" class=\"dataframe\">\n",
       "  <thead>\n",
       "    <tr style=\"text-align: right;\">\n",
       "      <th></th>\n",
       "      <th>Undergrad</th>\n",
       "      <th>Taxable.Income</th>\n",
       "      <th>City.Population</th>\n",
       "      <th>Work.Experience</th>\n",
       "      <th>Urban</th>\n",
       "      <th>Married</th>\n",
       "      <th>Single</th>\n",
       "    </tr>\n",
       "  </thead>\n",
       "  <tbody>\n",
       "    <tr>\n",
       "      <th>0</th>\n",
       "      <td>0</td>\n",
       "      <td>68833</td>\n",
       "      <td>50047</td>\n",
       "      <td>10</td>\n",
       "      <td>0</td>\n",
       "      <td>0</td>\n",
       "      <td>1</td>\n",
       "    </tr>\n",
       "    <tr>\n",
       "      <th>1</th>\n",
       "      <td>0</td>\n",
       "      <td>33700</td>\n",
       "      <td>134075</td>\n",
       "      <td>18</td>\n",
       "      <td>0</td>\n",
       "      <td>0</td>\n",
       "      <td>0</td>\n",
       "    </tr>\n",
       "    <tr>\n",
       "      <th>2</th>\n",
       "      <td>0</td>\n",
       "      <td>36925</td>\n",
       "      <td>160205</td>\n",
       "      <td>30</td>\n",
       "      <td>0</td>\n",
       "      <td>1</td>\n",
       "      <td>0</td>\n",
       "    </tr>\n",
       "    <tr>\n",
       "      <th>3</th>\n",
       "      <td>0</td>\n",
       "      <td>50190</td>\n",
       "      <td>193264</td>\n",
       "      <td>15</td>\n",
       "      <td>0</td>\n",
       "      <td>0</td>\n",
       "      <td>1</td>\n",
       "    </tr>\n",
       "    <tr>\n",
       "      <th>4</th>\n",
       "      <td>0</td>\n",
       "      <td>81002</td>\n",
       "      <td>27533</td>\n",
       "      <td>28</td>\n",
       "      <td>0</td>\n",
       "      <td>1</td>\n",
       "      <td>0</td>\n",
       "    </tr>\n",
       "  </tbody>\n",
       "</table>\n",
       "</div>"
      ],
      "text/plain": [
       "   Undergrad  Taxable.Income  City.Population  Work.Experience  Urban  \\\n",
       "0          0           68833            50047               10      0   \n",
       "1          0           33700           134075               18      0   \n",
       "2          0           36925           160205               30      0   \n",
       "3          0           50190           193264               15      0   \n",
       "4          0           81002            27533               28      0   \n",
       "\n",
       "   Married  Single  \n",
       "0        0       1  \n",
       "1        0       0  \n",
       "2        1       0  \n",
       "3        0       1  \n",
       "4        1       0  "
      ]
     },
     "execution_count": 10,
     "metadata": {},
     "output_type": "execute_result"
    }
   ],
   "source": [
    "df1=pd.get_dummies(df['Marital.Status'],drop_first=True) # One hot encoding on the categorical feature Marital.Status using\n",
    "# get_dummies and drop the first column to avoid dummy variable trap.\n",
    "df=pd.concat([df,df1],axis=1) #concatenating the one hot encoded data to the actual dataframe using pd.concat\n",
    "df.drop('Marital.Status',axis=1,inplace=True) #dropping the Marital.Status since we don't need them\n",
    "df.head()"
   ]
  },
  {
   "cell_type": "code",
   "execution_count": 11,
   "metadata": {},
   "outputs": [
    {
     "name": "stderr",
     "output_type": "stream",
     "text": [
      "C:\\Users\\Deeksha Kotian\\Anaconda3\\lib\\site-packages\\seaborn\\distributions.py:283: UserWarning: Data must have variance to compute a kernel density estimate.\n",
      "  warnings.warn(msg, UserWarning)\n"
     ]
    },
    {
     "data": {
      "image/png": "[encoded data removed]",
      "text/plain": [
       "<Figure size 432x288 with 1 Axes>"
      ]
     },
     "metadata": {
      "needs_background": "light"
     },
     "output_type": "display_data"
    },
    {
     "data": {
      "image/png": "[encoded data removed]",
      "text/plain": [
       "<Figure size 432x288 with 1 Axes>"
      ]
     },
     "metadata": {
      "needs_background": "light"
     },
     "output_type": "display_data"
    },
    {
     "data": {
      "image/png": "[encoded data removed]",
      "text/plain": [
       "<Figure size 432x288 with 1 Axes>"
      ]
     },
     "metadata": {
      "needs_background": "light"
     },
     "output_type": "display_data"
    },
    {
     "data": {
      "image/png": "[encoded data removed]",
      "text/plain": [
       "<Figure size 432x288 with 1 Axes>"
      ]
     },
     "metadata": {
      "needs_background": "light"
     },
     "output_type": "display_data"
    },
    {
     "name": "stderr",
     "output_type": "stream",
     "text": [
      "C:\\Users\\Deeksha Kotian\\Anaconda3\\lib\\site-packages\\seaborn\\distributions.py:283: UserWarning: Data must have variance to compute a kernel density estimate.\n",
      "  warnings.warn(msg, UserWarning)\n"
     ]
    },
    {
     "data": {
      "image/png": "[encoded data removed]",
      "text/plain": [
       "<Figure size 432x288 with 1 Axes>"
      ]
     },
     "metadata": {
      "needs_background": "light"
     },
     "output_type": "display_data"
    },
    {
     "data": {
      "image/png": "[encoded data removed]",
      "text/plain": [
       "<Figure size 432x288 with 1 Axes>"
      ]
     },
     "metadata": {
      "needs_background": "light"
     },
     "output_type": "display_data"
    },
    {
     "data": {
      "image/png": "[encoded data removed]",
      "text/plain": [
       "<Figure size 432x288 with 1 Axes>"
      ]
     },
     "metadata": {
      "needs_background": "light"
     },
     "output_type": "display_data"
    }
   ],
   "source": [
    "for i in df.columns:\n",
    "    sns.distplot(df[i]) #plotting a boxplot for each input feature of 3 different class.\n",
    "    plt.ylabel(i)\n",
    "    plt.show()"
   ]
  },
  {
   "cell_type": "code",
   "execution_count": 12,
   "metadata": {},
   "outputs": [
    {
     "data": {
      "text/plain": [
       "0    1\n",
       "1    1\n",
       "2    1\n",
       "3    1\n",
       "4    1\n",
       "Name: Taxable.Income, dtype: int32"
      ]
     },
     "execution_count": 12,
     "metadata": {},
     "output_type": "execute_result"
    }
   ],
   "source": [
    "clean_data=df.copy()\n",
    "clean_data['Taxable.Income']=(clean_data['Taxable.Income']>30000)*1 #if the Taxable income is greater then 30000 populate it\n",
    "#with 1 else it is 0.\n",
    "clean_data['Taxable.Income'].head()"
   ]
  },
  {
   "cell_type": "code",
   "execution_count": 13,
   "metadata": {},
   "outputs": [
    {
     "data": {
      "text/html": [
       "<div>\n",
       "<style scoped>\n",
       "    .dataframe tbody tr th:only-of-type {\n",
       "        vertical-align: middle;\n",
       "    }\n",
       "\n",
       "    .dataframe tbody tr th {\n",
       "        vertical-align: top;\n",
       "    }\n",
       "\n",
       "    .dataframe thead th {\n",
       "        text-align: right;\n",
       "    }\n",
       "</style>\n",
       "<table border=\"1\" class=\"dataframe\">\n",
       "  <thead>\n",
       "    <tr style=\"text-align: right;\">\n",
       "      <th></th>\n",
       "      <th>Taxable.Income</th>\n",
       "    </tr>\n",
       "  </thead>\n",
       "  <tbody>\n",
       "    <tr>\n",
       "      <th>0</th>\n",
       "      <td>1</td>\n",
       "    </tr>\n",
       "    <tr>\n",
       "      <th>1</th>\n",
       "      <td>1</td>\n",
       "    </tr>\n",
       "    <tr>\n",
       "      <th>2</th>\n",
       "      <td>1</td>\n",
       "    </tr>\n",
       "    <tr>\n",
       "      <th>3</th>\n",
       "      <td>1</td>\n",
       "    </tr>\n",
       "    <tr>\n",
       "      <th>4</th>\n",
       "      <td>1</td>\n",
       "    </tr>\n",
       "  </tbody>\n",
       "</table>\n",
       "</div>"
      ],
      "text/plain": [
       "   Taxable.Income\n",
       "0               1\n",
       "1               1\n",
       "2               1\n",
       "3               1\n",
       "4               1"
      ]
     },
     "execution_count": 13,
     "metadata": {},
     "output_type": "execute_result"
    }
   ],
   "source": [
    "y=clean_data[['Taxable.Income']].copy() #y is the target variable\n",
    "y.head()"
   ]
  },
  {
   "cell_type": "code",
   "execution_count": 14,
   "metadata": {},
   "outputs": [
    {
     "data": {
      "text/plain": [
       "Index(['Undergrad', 'Taxable.Income', 'City.Population', 'Work.Experience',\n",
       "       'Urban', 'Married', 'Single'],\n",
       "      dtype='object')"
      ]
     },
     "execution_count": 14,
     "metadata": {},
     "output_type": "execute_result"
    }
   ],
   "source": [
    "df.columns"
   ]
  },
  {
   "cell_type": "code",
   "execution_count": 15,
   "metadata": {},
   "outputs": [
    {
     "data": {
      "text/html": [
       "<div>\n",
       "<style scoped>\n",
       "    .dataframe tbody tr th:only-of-type {\n",
       "        vertical-align: middle;\n",
       "    }\n",
       "\n",
       "    .dataframe tbody tr th {\n",
       "        vertical-align: top;\n",
       "    }\n",
       "\n",
       "    .dataframe thead th {\n",
       "        text-align: right;\n",
       "    }\n",
       "</style>\n",
       "<table border=\"1\" class=\"dataframe\">\n",
       "  <thead>\n",
       "    <tr style=\"text-align: right;\">\n",
       "      <th></th>\n",
       "      <th>Undergrad</th>\n",
       "      <th>City.Population</th>\n",
       "      <th>Work.Experience</th>\n",
       "      <th>Urban</th>\n",
       "      <th>Married</th>\n",
       "      <th>Single</th>\n",
       "    </tr>\n",
       "  </thead>\n",
       "  <tbody>\n",
       "    <tr>\n",
       "      <th>0</th>\n",
       "      <td>0</td>\n",
       "      <td>50047</td>\n",
       "      <td>10</td>\n",
       "      <td>0</td>\n",
       "      <td>0</td>\n",
       "      <td>1</td>\n",
       "    </tr>\n",
       "    <tr>\n",
       "      <th>1</th>\n",
       "      <td>0</td>\n",
       "      <td>134075</td>\n",
       "      <td>18</td>\n",
       "      <td>0</td>\n",
       "      <td>0</td>\n",
       "      <td>0</td>\n",
       "    </tr>\n",
       "    <tr>\n",
       "      <th>2</th>\n",
       "      <td>0</td>\n",
       "      <td>160205</td>\n",
       "      <td>30</td>\n",
       "      <td>0</td>\n",
       "      <td>1</td>\n",
       "      <td>0</td>\n",
       "    </tr>\n",
       "    <tr>\n",
       "      <th>3</th>\n",
       "      <td>0</td>\n",
       "      <td>193264</td>\n",
       "      <td>15</td>\n",
       "      <td>0</td>\n",
       "      <td>0</td>\n",
       "      <td>1</td>\n",
       "    </tr>\n",
       "    <tr>\n",
       "      <th>4</th>\n",
       "      <td>0</td>\n",
       "      <td>27533</td>\n",
       "      <td>28</td>\n",
       "      <td>0</td>\n",
       "      <td>1</td>\n",
       "      <td>0</td>\n",
       "    </tr>\n",
       "  </tbody>\n",
       "</table>\n",
       "</div>"
      ],
      "text/plain": [
       "   Undergrad  City.Population  Work.Experience  Urban  Married  Single\n",
       "0          0            50047               10      0        0       1\n",
       "1          0           134075               18      0        0       0\n",
       "2          0           160205               30      0        1       0\n",
       "3          0           193264               15      0        0       1\n",
       "4          0            27533               28      0        1       0"
      ]
     },
     "execution_count": 15,
     "metadata": {},
     "output_type": "execute_result"
    }
   ],
   "source": [
    "X=df[['Undergrad', 'City.Population', 'Work.Experience',\n",
    "       'Urban', 'Married', 'Single']] #Independent feature.\n",
    "X.head()"
   ]
  },
  {
   "cell_type": "markdown",
   "metadata": {},
   "source": [
    "# Model Training:"
   ]
  },
  {
   "cell_type": "code",
   "execution_count": 16,
   "metadata": {},
   "outputs": [],
   "source": [
    "X_train,X_test,y_train,y_test=train_test_split(X,y,random_state=0) #Splitting the train and the test set."
   ]
  },
  {
   "cell_type": "code",
   "execution_count": 20,
   "metadata": {},
   "outputs": [
    {
     "name": "stderr",
     "output_type": "stream",
     "text": [
      "<ipython-input-20-3d9937d6c751>:2: DataConversionWarning: A column-vector y was passed when a 1d array was expected. Please change the shape of y to (n_samples,), for example using ravel().\n",
      "  clf.fit(X_train,y_train) #Fitting the instance on the train and the test dataset.\n"
     ]
    },
    {
     "data": {
      "text/plain": [
       "RandomForestClassifier(max_depth=4, n_estimators=20, random_state=0)"
      ]
     },
     "execution_count": 20,
     "metadata": {},
     "output_type": "execute_result"
    }
   ],
   "source": [
    "clf=RandomForestClassifier(n_estimators=20,max_depth=4,random_state=0) #obtaining the instance of the Decision tree classifier.\n",
    "#n_estimators=20 will create a random forest of 20 decsion trees. The max_depth is chosen as 4\n",
    "clf.fit(X_train,y_train) #Fitting the instance on the train and the test dataset."
   ]
  },
  {
   "cell_type": "code",
   "execution_count": 21,
   "metadata": {},
   "outputs": [
    {
     "data": {
      "text/plain": [
       "[DecisionTreeClassifier(max_depth=4, max_features='auto', random_state=209652396),\n",
       " DecisionTreeClassifier(max_depth=4, max_features='auto', random_state=398764591),\n",
       " DecisionTreeClassifier(max_depth=4, max_features='auto', random_state=924231285),\n",
       " DecisionTreeClassifier(max_depth=4, max_features='auto',\n",
       "                        random_state=1478610112),\n",
       " DecisionTreeClassifier(max_depth=4, max_features='auto', random_state=441365315),\n",
       " DecisionTreeClassifier(max_depth=4, max_features='auto',\n",
       "                        random_state=1537364731),\n",
       " DecisionTreeClassifier(max_depth=4, max_features='auto', random_state=192771779),\n",
       " DecisionTreeClassifier(max_depth=4, max_features='auto',\n",
       "                        random_state=1491434855),\n",
       " DecisionTreeClassifier(max_depth=4, max_features='auto',\n",
       "                        random_state=1819583497),\n",
       " DecisionTreeClassifier(max_depth=4, max_features='auto', random_state=530702035),\n",
       " DecisionTreeClassifier(max_depth=4, max_features='auto', random_state=626610453),\n",
       " DecisionTreeClassifier(max_depth=4, max_features='auto',\n",
       "                        random_state=1650906866),\n",
       " DecisionTreeClassifier(max_depth=4, max_features='auto',\n",
       "                        random_state=1879422756),\n",
       " DecisionTreeClassifier(max_depth=4, max_features='auto',\n",
       "                        random_state=1277901399),\n",
       " DecisionTreeClassifier(max_depth=4, max_features='auto',\n",
       "                        random_state=1682652230),\n",
       " DecisionTreeClassifier(max_depth=4, max_features='auto', random_state=243580376),\n",
       " DecisionTreeClassifier(max_depth=4, max_features='auto',\n",
       "                        random_state=1991416408),\n",
       " DecisionTreeClassifier(max_depth=4, max_features='auto',\n",
       "                        random_state=1171049868),\n",
       " DecisionTreeClassifier(max_depth=4, max_features='auto',\n",
       "                        random_state=1646868794),\n",
       " DecisionTreeClassifier(max_depth=4, max_features='auto',\n",
       "                        random_state=2051556033)]"
      ]
     },
     "execution_count": 21,
     "metadata": {},
     "output_type": "execute_result"
    }
   ],
   "source": [
    "clf.estimators_ #estimators_ will give all the decision trees in the random forest."
   ]
  },
  {
   "cell_type": "code",
   "execution_count": 22,
   "metadata": {},
   "outputs": [
    {
     "name": "stdout",
     "output_type": "stream",
     "text": [
      "0.8066666666666666\n",
      "0.7533333333333333\n"
     ]
    }
   ],
   "source": [
    "print(clf.score(X_train,y_train)) #train accuracy\n",
    "print(clf.score(X_test,y_test)) #test accuracy"
   ]
  },
  {
   "cell_type": "markdown",
   "metadata": {},
   "source": [
    "### Unlike the Decision tree which causes the overfitting of the model , we use Random Forest which will create n different models with the records being row sampled and column sampled. This causes the model to train on different samples which will avoid overfitting."
   ]
  },
  {
   "cell_type": "markdown",
   "metadata": {},
   "source": [
    "# Visualising the Random Forest"
   ]
  },
  {
   "cell_type": "code",
   "execution_count": 23,
   "metadata": {},
   "outputs": [
    {
     "data": {
      "text/plain": [
       "[Text(454.57758620689657, 489.24, 'X[1] <= 140021.0\\ngini = 0.312\\nsamples = 281\\nvalue = [87, 363]'),\n",
       " Text(230.89655172413794, 380.52000000000004, 'X[1] <= 63506.5\\ngini = 0.362\\nsamples = 193\\nvalue = [74, 238]'),\n",
       " Text(115.44827586206897, 271.8, 'X[1] <= 39441.5\\ngini = 0.176\\nsamples = 66\\nvalue = [11, 102]'),\n",
       " Text(57.724137931034484, 163.08000000000004, 'X[4] <= 0.5\\ngini = 0.308\\nsamples = 25\\nvalue = [8, 34]'),\n",
       " Text(28.862068965517242, 54.360000000000014, 'gini = 0.426\\nsamples = 14\\nvalue = [8, 18]'),\n",
       " Text(86.58620689655173, 54.360000000000014, 'gini = 0.0\\nsamples = 11\\nvalue = [0, 16]'),\n",
       " Text(173.17241379310346, 163.08000000000004, 'X[2] <= 6.5\\ngini = 0.081\\nsamples = 41\\nvalue = [3, 68]'),\n",
       " Text(144.31034482758622, 54.360000000000014, 'gini = 0.0\\nsamples = 9\\nvalue = [0, 21]'),\n",
       " Text(202.0344827586207, 54.360000000000014, 'gini = 0.113\\nsamples = 32\\nvalue = [3, 47]'),\n",
       " Text(346.3448275862069, 271.8, 'X[2] <= 10.5\\ngini = 0.433\\nsamples = 127\\nvalue = [63, 136]'),\n",
       " Text(288.62068965517244, 163.08000000000004, 'X[1] <= 127376.5\\ngini = 0.496\\nsamples = 44\\nvalue = [34, 41]'),\n",
       " Text(259.7586206896552, 54.360000000000014, 'gini = 0.483\\nsamples = 38\\nvalue = [27, 39]'),\n",
       " Text(317.48275862068965, 54.360000000000014, 'gini = 0.346\\nsamples = 6\\nvalue = [7, 2]'),\n",
       " Text(404.0689655172414, 163.08000000000004, 'X[2] <= 29.5\\ngini = 0.358\\nsamples = 83\\nvalue = [29, 95]'),\n",
       " Text(375.2068965517241, 54.360000000000014, 'gini = 0.328\\nsamples = 79\\nvalue = [24, 92]'),\n",
       " Text(432.9310344827586, 54.360000000000014, 'gini = 0.469\\nsamples = 4\\nvalue = [5, 3]'),\n",
       " Text(678.2586206896552, 380.52000000000004, 'X[4] <= 0.5\\ngini = 0.171\\nsamples = 88\\nvalue = [13, 125]'),\n",
       " Text(577.2413793103449, 271.8, 'X[1] <= 157673.0\\ngini = 0.137\\nsamples = 59\\nvalue = [7, 88]'),\n",
       " Text(519.5172413793103, 163.08000000000004, 'X[5] <= 0.5\\ngini = 0.083\\nsamples = 24\\nvalue = [2, 44]'),\n",
       " Text(490.65517241379314, 54.360000000000014, 'gini = 0.095\\nsamples = 10\\nvalue = [1, 19]'),\n",
       " Text(548.3793103448276, 54.360000000000014, 'gini = 0.074\\nsamples = 14\\nvalue = [1, 25]'),\n",
       " Text(634.9655172413793, 163.08000000000004, 'X[5] <= 0.5\\ngini = 0.183\\nsamples = 35\\nvalue = [5, 44]'),\n",
       " Text(606.1034482758621, 54.360000000000014, 'gini = 0.245\\nsamples = 14\\nvalue = [3, 18]'),\n",
       " Text(663.8275862068965, 54.360000000000014, 'gini = 0.133\\nsamples = 21\\nvalue = [2, 26]'),\n",
       " Text(779.2758620689656, 271.8, 'X[2] <= 22.5\\ngini = 0.24\\nsamples = 29\\nvalue = [6, 37]'),\n",
       " Text(750.4137931034483, 163.08000000000004, 'X[2] <= 21.5\\ngini = 0.328\\nsamples = 21\\nvalue = [6, 23]'),\n",
       " Text(721.551724137931, 54.360000000000014, 'gini = 0.293\\nsamples = 20\\nvalue = [5, 23]'),\n",
       " Text(779.2758620689656, 54.360000000000014, 'gini = 0.0\\nsamples = 1\\nvalue = [1, 0]'),\n",
       " Text(808.1379310344828, 163.08000000000004, 'gini = 0.0\\nsamples = 8\\nvalue = [0, 14]')]"
      ]
     },
     "execution_count": 23,
     "metadata": {},
     "output_type": "execute_result"
    },
    {
     "data": {
      "image/png": "[encoded data removed]",
      "text/plain": [
       "<Figure size 1080x720 with 1 Axes>"
      ]
     },
     "metadata": {
      "needs_background": "light"
     },
     "output_type": "display_data"
    }
   ],
   "source": [
    "from sklearn import tree\n",
    "plt.figure(figsize=(15,10))\n",
    "tree.plot_tree(clf.estimators_[2],filled=True) #visualising the tree using plot_tree function from the module tree.\n",
    "#clf.estimators_[2] will display the 3rd decision tree"
   ]
  },
  {
   "cell_type": "markdown",
   "metadata": {},
   "source": [
    "# HyperParameter Tuning:"
   ]
  },
  {
   "cell_type": "code",
   "execution_count": 38,
   "metadata": {},
   "outputs": [],
   "source": [
    "#No. of trees in the Random Forest:\n",
    "n_estimators=[int(x) for x in np.linspace(start=10,stop=80,num=10)]\n",
    "#No. of features to consider at every split\n",
    "max_features=['auto','sqrt']\n",
    "#Max no. of levels in the tree\n",
    "max_depth=[2,10]\n",
    "#Min. no. of samples required to split a node.\n",
    "min_samples_split=[2,5]\n",
    "#Min. no. of samples required at each leaf node.\n",
    "min_samples_leaf=[1,2]\n",
    "#Method of selecting samples for training each tree\n",
    "bootstrap=[True,False]"
   ]
  },
  {
   "cell_type": "code",
   "execution_count": 39,
   "metadata": {},
   "outputs": [
    {
     "name": "stdout",
     "output_type": "stream",
     "text": [
      "{'n_estimators': [10, 17, 25, 33, 41, 48, 56, 64, 72, 80], 'max_features': ['auto', 'sqrt'], 'max_depth': [2, 10], 'min_samples_split': [2, 5], 'min_samples_leaf': [1, 2], 'bootstrap': [True, False]}\n"
     ]
    }
   ],
   "source": [
    "param_grid={'n_estimators':n_estimators,\n",
    "            'max_features':max_features,\n",
    "            'max_depth':max_depth,\n",
    "            'min_samples_split':min_samples_split,\n",
    "            'min_samples_leaf':min_samples_leaf,\n",
    "            'bootstrap':bootstrap}\n",
    "print(param_grid)"
   ]
  },
  {
   "cell_type": "code",
   "execution_count": 40,
   "metadata": {},
   "outputs": [],
   "source": [
    "clf = RandomForestClassifier() #Obtaining an instance of the RandomForestClassifier"
   ]
  },
  {
   "cell_type": "code",
   "execution_count": 41,
   "metadata": {},
   "outputs": [],
   "source": [
    "rf_Grid=GridSearchCV(estimator=clf,param_grid=param_grid,cv=3,verbose=2,n_jobs=4) #Obtaining the random search for the\n",
    "#randomforestclassifier "
   ]
  },
  {
   "cell_type": "code",
   "execution_count": 42,
   "metadata": {},
   "outputs": [
    {
     "name": "stdout",
     "output_type": "stream",
     "text": [
      "Fitting 3 folds for each of 320 candidates, totalling 960 fits\n"
     ]
    },
    {
     "name": "stderr",
     "output_type": "stream",
     "text": [
      "[Parallel(n_jobs=4)]: Using backend LokyBackend with 4 concurrent workers.\n",
      "[Parallel(n_jobs=4)]: Done  33 tasks      | elapsed:    3.6s\n",
      "[Parallel(n_jobs=4)]: Done 154 tasks      | elapsed:    9.1s\n",
      "[Parallel(n_jobs=4)]: Done 357 tasks      | elapsed:   19.5s\n",
      "[Parallel(n_jobs=4)]: Done 640 tasks      | elapsed:   32.4s\n",
      "[Parallel(n_jobs=4)]: Done 960 out of 960 | elapsed:   45.4s finished\n",
      "C:\\Users\\Deeksha Kotian\\Anaconda3\\lib\\site-packages\\sklearn\\model_selection\\_search.py:765: DataConversionWarning: A column-vector y was passed when a 1d array was expected. Please change the shape of y to (n_samples,), for example using ravel().\n",
      "  self.best_estimator_.fit(X, y, **fit_params)\n"
     ]
    },
    {
     "data": {
      "text/plain": [
       "GridSearchCV(cv=3, estimator=RandomForestClassifier(), n_jobs=4,\n",
       "             param_grid={'bootstrap': [True, False], 'max_depth': [2, 10],\n",
       "                         'max_features': ['auto', 'sqrt'],\n",
       "                         'min_samples_leaf': [1, 2],\n",
       "                         'min_samples_split': [2, 5],\n",
       "                         'n_estimators': [10, 17, 25, 33, 41, 48, 56, 64, 72,\n",
       "                                          80]},\n",
       "             verbose=2)"
      ]
     },
     "execution_count": 42,
     "metadata": {},
     "output_type": "execute_result"
    }
   ],
   "source": [
    "rf_Grid.fit(X_train, y_train) #fitting to the train and test data"
   ]
  },
  {
   "cell_type": "code",
   "execution_count": 43,
   "metadata": {},
   "outputs": [
    {
     "data": {
      "text/plain": [
       "{'bootstrap': True,\n",
       " 'max_depth': 2,\n",
       " 'max_features': 'auto',\n",
       " 'min_samples_leaf': 1,\n",
       " 'min_samples_split': 2,\n",
       " 'n_estimators': 10}"
      ]
     },
     "execution_count": 43,
     "metadata": {},
     "output_type": "execute_result"
    }
   ],
   "source": [
    "rf_Grid.best_params_ #Best parameters of the random search"
   ]
  },
  {
   "cell_type": "code",
   "execution_count": 34,
   "metadata": {},
   "outputs": [
    {
     "name": "stdout",
     "output_type": "stream",
     "text": [
      "0.8066666666666666\n",
      "0.7533333333333333\n"
     ]
    }
   ],
   "source": [
    "print(rf_Grid.score(X_train,y_train)) #training accuracy\n",
    "print(rf_Grid.score(X_test,y_test)) #test accuracy"
   ]
  }
 ],
 "metadata": {
  "kernelspec": {
   "display_name": "Python 3",
   "language": "python",
   "name": "python3"
  },
  "language_info": {
   "codemirror_mode": {
    "name": "ipython",
    "version": 3
   },
   "file_extension": ".py",
   "mimetype": "text/x-python",
   "name": "python",
   "nbconvert_exporter": "python",
   "pygments_lexer": "ipython3",
   "version": "3.8.3"
  }
 },
 "nbformat": 4,
 "nbformat_minor": 5
}
